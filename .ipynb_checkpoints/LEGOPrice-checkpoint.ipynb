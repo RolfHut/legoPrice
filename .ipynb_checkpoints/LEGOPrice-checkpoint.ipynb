{
 "cells": [
  {
   "cell_type": "raw",
   "metadata": {},
   "source": [
    "<code><script>\n",
    "var myUrl = 'http://rolfhut.nl/noteBooks/LEGOPrice.html';\n",
    " \n",
    "if(window.top.location.href !== myUrl) {\n",
    "    window.top.location.href = myUrl;\n",
    "}\n",
    "</code></script>"
   ]
  },
  {
   "cell_type": "markdown",
   "metadata": {},
   "source": [
    "# What do you pay extra for Star Wars LEGO versus normal LEGO\n",
    "Having spend time in three different LEGO shops in the same number of days, I started to notice that the LEGO Star Wars sets were slightly higher priced compared to equally sized \"normal\" LEGO sets (ie, LEGO City and LEGO Creator). This makes sense, since LEGO most likely has to pay Disney licensing rights to use the Star Wars brand. All other costs in making these sets should be the same (I think).\n",
    "\n",
    "I wonder if I could quantify how much more one pays for a Star Wars set, compared to a normal LEGO set. If I can quantify this difference, it will tell us how much more the LEGO company thinks people are willing to spend on Star Wars LEGO versus normal LEGO and (thus) how much the (LEGO part of the) Star Wars brand is \"worth\".\n",
    "\n",
    "## Methods\n",
    "Just simply comparing the average prices for all LEGO Star Wars sets compared to the normal sets will not work: most Star Wars sets are larger than normal sets and larger sets are more expensive. To analyse this I need informtation on both the size, as well as the price of all sets. Online I found these at [brickset.com](http://www.brickset.com). For the years 2016-2018 I select all Star Wars, Creator and City sets and download the information into csv files (available with this notebook). Than I creat a single pandas data frame to hold all the information. \n",
    "\n",
    "I will try to fit a one dimensional linear regression model (ie. a straigth line) between the number of pieces and the price of the set. I'm trying to see if the LEGO Star Wars sets are significantly different in price compared to the City and Creator sets. To test this I will look at the difference in base price, devided by the joint uncertainy in the estimation of those base prices. When this ratio is bigger than one, my hypothesis that LEGO Star Wars sets are more expensive than LEGO City sets is supported by the data.\n",
    "\n",
    "To make sure that very big sets (ie. outliers) do not influence the analyses too much (looking at you [Millenium Falcon Collectors Edition](https://shop.lego.com/en-NL/product/Millennium-Falcon-75192)), sets of more than €100 are excluded. Since the datasets also contains collectables like keychains and other things not made of LEGO bricks, I also excluded all items with number of pieces lower than 1. \n",
    "\n",
    "I use the Ordinary Least Squares (OLS) model from the statsmodel python package. I do need to add a constant to this model, by default it assumes the fitted line needs to go through the origin. In the case of LEGO number of bricks versus price this would mean assumeing there is no base price, ie. the price is only dependend on the number of pieces. Since I'm looking at the difference in bias between Star Wars LEGO sets and normal LEGO sets I do need this constant: it is the most important part of my analyses. \n",
    "\n",
    "The OLS fit will give a best estimate for the constant (ie fixed base price) and the coefficient (additional price per piece) per group (Star Wars, Creator and City). It will also give an uncertainty on those results. I will consider the difference between the base prices supporting my hypotheses when the difference devided by the combined uncertainty is greater than one. "
   ]
  },
  {
   "cell_type": "code",
   "execution_count": 1,
   "metadata": {},
   "outputs": [],
   "source": [
    "#These are all the libraries needed for this analyses\n",
    "%matplotlib inline\n",
    "import numpy as np\n",
    "import pandas as pd\n",
    "import matplotlib.pyplot as plt\n",
    "import glob\n",
    "import math\n",
    "import statsmodels.api as sm"
   ]
  },
  {
   "cell_type": "code",
   "execution_count": 2,
   "metadata": {},
   "outputs": [],
   "source": [
    "# data preperation\n",
    "\n",
    "# first I construct a list of pandas data frames from all csv files in the current directory.\n",
    "li = []\n",
    "for file in glob.glob('./*.csv'):\n",
    "    li.append(pd.read_csv(file))\n",
    "\n",
    "# glue (ie. \"concat\") all data frames together\n",
    "data = pd.concat(li, axis=0, ignore_index=True)\n",
    "\n",
    "# only select sets with a price lower than €100 and with at least one piece (to exclude things like key-chains)\n",
    "filteredData= data.loc[data['EUPrice'].notna() & (data['EUPrice'] <  100) & data['Pieces'].notna() & (data['Pieces'] > 0)]"
   ]
  },
  {
   "cell_type": "code",
   "execution_count": 3,
   "metadata": {},
   "outputs": [],
   "source": [
    "# I use a function that does the linear fitting (Ordinairy least squares, OLS) \n",
    "# This allows me to call it in a \"groupby\" loop in one line of pandas powered goodness :-).\n",
    "def ols_res(df, xcols,  ycol):\n",
    "    x = df[xcols]\n",
    "    x = sm.add_constant(x)\n",
    "    return sm.OLS(df[ycol], x).fit()\n",
    "\n",
    "# res holds all results of the lineair fits for all groups (ie. \"Star Wars\",\n",
    "# \"City\" and \"Creator\") in the dataframe. res is an array of the type 'fitting results'\n",
    "# which allows me to call things like 'predict()' on each element of the array\n",
    "res = filteredData.groupby('Theme').apply(ols_res, 'Pieces', 'EUPrice')"
   ]
  },
  {
   "cell_type": "markdown",
   "metadata": {},
   "source": [
    "## Results\n",
    "Below I plot all datapoints from the dataset and all fitted lines. The different colors are red for the \"City\" LEGO sets, green for \"Creator\" LEGO sets and finally blue for \"Star Wars\" LEGO sets. The line for the \"City\" sets and the \"Star Wars\" sets have a remarkable similar slope: the price per piece (brick) is nearly the same. The blue line is higher than both the red and green one, indicating that indeed the price of LEGO Star Wars sets is higher than those of City and Creator sets. "
   ]
  },
  {
   "cell_type": "code",
   "execution_count": 4,
   "metadata": {},
   "outputs": [
    {
     "data": {
      "image/png": "[encoded data removed]",
      "text/plain": [
       "<Figure size 432x288 with 1 Axes>"
      ]
     },
     "metadata": {
      "needs_background": "light"
     },
     "output_type": "display_data"
    }
   ],
   "source": [
    "# create a colormap\n",
    "cmap = {'City': 'red', 'Creator': 'green', 'Star Wars': 'blue'}\n",
    "# plot the raw data\n",
    "filteredData.plot(x='Pieces', y='EUPrice', kind='scatter', \n",
    "        c=[cmap.get(c, 'black') for c in filteredData.Theme])\n",
    "#plot all the fitted lines\n",
    "for c in filteredData.Theme:\n",
    "    plt.plot(filteredData.Pieces[filteredData['Theme']==c], res[c].predict(), c=cmap.get(c, 'black'))\n",
    "\n",
    "plt.title('Price of LEGO sets versus number of pieces for Creator (green), \\nCity (Red) and Star Wars (Blue) LEGO sets)')\n",
    "plt.xlabel('number of LEGO pieces in set')\n",
    "plt.ylabel('price of set in €')\n",
    "plt.show()"
   ]
  },
  {
   "cell_type": "code",
   "execution_count": 5,
   "metadata": {},
   "outputs": [
    {
     "name": "stdout",
     "output_type": "stream",
     "text": [
      "Fixed price per set\n",
      "   Creator € -0.25\n",
      "   City € 4.28\n",
      "   Star Wars € 8.36\n",
      "Price per Piece per set\n",
      "   Creator € 0.0856\n",
      "   City € 0.1027\n",
      "   Star Wars € 0.1016\n"
     ]
    }
   ],
   "source": [
    "print('Fixed price per set')\n",
    "for theme in ['Creator','City','Star Wars']:\n",
    "    print('   ' + theme + ' € ' + '%4.2f' % res[theme].params['const'])\n",
    "print('Price per Piece per set')\n",
    "for theme in ['Creator','City','Star Wars']:\n",
    "    print('   ' + theme + ' € ' + '%5.4f' % res[theme].params['Pieces'])"
   ]
  },
  {
   "cell_type": "markdown",
   "metadata": {},
   "source": [
    "## Statistical analyes results\n",
    "The bias in those fits, ie. the fixed price per set is €8.36 for the Star Wars LEGO sets and €4.28 for the LEGO sets. The difference of €4.04 devided by the joint uncertainty in this estimates is 1.7, indicating that those base prices differ strongly given the uncertainty in the data set. \n",
    "\n",
    "### A post hoc analyses\n",
    "I found the difference in the slope (price per piece) of the Creator (green line) and City (red line) surprising. This difference devided by the joint uncertainty is 3.3. For some reason the price per piece for the Creator sub-brand is at 8.6 euro-cent per piece lower than for the City sub-brand (at 10.3 euro-cent per piece)"
   ]
  },
  {
   "cell_type": "code",
   "execution_count": 6,
   "metadata": {},
   "outputs": [
    {
     "name": "stdout",
     "output_type": "stream",
     "text": [
      "Signifcant test bias (fixed price per set) City LEGO sets versus Star Wars LEGO sets:  1.7\n"
     ]
    }
   ],
   "source": [
    "print('Signifcant test bias (fixed price per set) City LEGO sets versus Star Wars LEGO sets: ' + \n",
    "    '% 2.1f' % ((res['Star Wars'].params['const'] - res['City'].params['const']) / \n",
    "    math.sqrt(res['Star Wars'].cov_params()['const']['const']+res['City'].cov_params()['const']['const'])))"
   ]
  },
  {
   "cell_type": "code",
   "execution_count": 7,
   "metadata": {},
   "outputs": [
    {
     "name": "stdout",
     "output_type": "stream",
     "text": [
      "Signifcant test price per Pieces City LEGO sets versus Creator LEGO sets:  3.3\n"
     ]
    }
   ],
   "source": [
    "print('Signifcant test price per Pieces City LEGO sets versus Creator LEGO sets: ' + \n",
    "    '% 2.1f' % ((res['City'].params['Pieces'] - res['Creator'].params['Pieces']) / \n",
    "    math.sqrt(res['City'].cov_params()['Pieces']['Pieces']+res['Creator'].cov_params()['Pieces']['Pieces'])))"
   ]
  },
  {
   "cell_type": "markdown",
   "metadata": {},
   "source": [
    "## Conclusions and discussion\n",
    "The analyses supports my initial belief that the Star Wars LEGO sets are more expensive than the City and Creator sets. While the price per piece is identical for LEGO City and LEGO Star Wars sets, the base price per set is €4.04 higher for LEGO Star Wars sets. While analysing the data I also found that the price per piece for the LEGO Creator sets is much lower at 8.6 eurocents per piece compared to the LEGO City set at 10.3 eurocents per piece. \n",
    "\n",
    "What the reasons for these differences are is not examined in this analyses, I only look at the sales price. Wether the increased base price of the LEGO Star Wars sets is because LEGO has to pay a license to Disney of €4 per box, or wether the LEGO company has done extensive market research and concluded that LEGO Star Wars fans are, on average, willing to pay €4 more for the same amount of bricks, cannot be seperated in this analyses. The same holds for the lower price per piece for the creator set. My partner argues that most Creator sets contain more small basic pieces that are cheaper to produce compared to the larger complex pieces in the LEGO and City sets. It can also be argued that City sets are more often bought as presents for kids where (the larger) Creator sets are bought by adult fans of LEGO. The willingness to pay could be different for those groups. \n",
    "\n",
    "This analyses has supported my initial observation: LEGO Star Wars sets are more expansive than LEGO City sets. While the price per piece is similar at 10.3 euro-cents per piece, the base price is €4.04 higher at €8.36 for LEGO Star Wars sets."
   ]
  }
 ],
 "metadata": {
  "kernelspec": {
   "display_name": "Python 3",
   "language": "python",
   "name": "python3"
  },
  "language_info": {
   "codemirror_mode": {
    "name": "ipython",
    "version": 3
   },
   "file_extension": ".py",
   "mimetype": "text/x-python",
   "name": "python",
   "nbconvert_exporter": "python",
   "pygments_lexer": "ipython3",
   "version": "3.7.1"
  }
 },
 "nbformat": 4,
 "nbformat_minor": 2
}
